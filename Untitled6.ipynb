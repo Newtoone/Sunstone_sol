{
 "cells": [
  {
   "cell_type": "code",
   "execution_count": 1,
   "id": "e92a1f97",
   "metadata": {},
   "outputs": [
    {
     "name": "stdout",
     "output_type": "stream",
     "text": [
      "1 2 3 4 5 6 7 8 9 10 "
     ]
    }
   ],
   "source": [
    "# (Q1)print first 10 natural numbers using while loop\n",
    "\n",
    "i=1\n",
    "while(i!=11):\n",
    "    print(i,end=\" \")\n",
    "    i = i+1"
   ]
  },
  {
   "cell_type": "code",
   "execution_count": 2,
   "id": "f3873304",
   "metadata": {},
   "outputs": [
    {
     "name": "stdout",
     "output_type": "stream",
     "text": [
      "\n",
      "\n",
      "1 \n",
      "\n",
      "1 2 \n",
      "\n",
      "1 2 3 \n",
      "\n",
      "1 2 3 4 \n",
      "\n",
      "1 2 3 4 5 \n",
      "\n"
     ]
    }
   ],
   "source": [
    "#(Q2) print the pattern\n",
    "for i in range(1,7):\n",
    "    for j in range(1,i):\n",
    "        print(j,end=\" \")\n",
    "    print(\"\\n\")"
   ]
  },
  {
   "cell_type": "code",
   "execution_count": 3,
   "id": "37f0b665",
   "metadata": {},
   "outputs": [
    {
     "name": "stdout",
     "output_type": "stream",
     "text": [
      "Enter a number : 4\n",
      "10\n"
     ]
    }
   ],
   "source": [
    "#(Q3)calculate the sum of all numbers from 1 to a given number\n",
    "\n",
    "num = int(input(\"Enter a number : \"))\n",
    "sum = 0\n",
    "for i in range(1,num+1):\n",
    "    sum = sum+i\n",
    "print(sum)"
   ]
  },
  {
   "cell_type": "code",
   "execution_count": 4,
   "id": "661f254e",
   "metadata": {},
   "outputs": [
    {
     "name": "stdout",
     "output_type": "stream",
     "text": [
      "Enter a number5\n",
      "5  x  1  =  5\n",
      "5  x  2  =  10\n",
      "5  x  3  =  15\n",
      "5  x  4  =  20\n",
      "5  x  5  =  25\n",
      "5  x  6  =  30\n",
      "5  x  7  =  35\n",
      "5  x  8  =  40\n",
      "5  x  9  =  45\n",
      "5  x  10  =  50\n"
     ]
    }
   ],
   "source": [
    "#(Q4)print a table of given number\n",
    "num = int(input(\"Enter a number\"))\n",
    "for i in range(1,11):\n",
    "    print(num,\" x \",i,\" = \",num*i)"
   ]
  },
  {
   "cell_type": "code",
   "execution_count": 5,
   "id": "de918251",
   "metadata": {},
   "outputs": [],
   "source": [
    "# (Q5)display numbers from a list using loop . write a program to display only those number from a list that satisfy following condition;"
   ]
  },
  {
   "cell_type": "code",
   "execution_count": 6,
   "id": "28215bf3",
   "metadata": {},
   "outputs": [
    {
     "name": "stdout",
     "output_type": "stream",
     "text": [
      "Enter the number: 4\n",
      "Size = 1\n"
     ]
    }
   ],
   "source": [
    "#(Q6) count the total number of digits in number\n",
    "x = input(\"Enter the number: \")\n",
    "print(\"Size =\",len(x))"
   ]
  },
  {
   "cell_type": "code",
   "execution_count": 7,
   "id": "1d96e9d3",
   "metadata": {},
   "outputs": [
    {
     "name": "stdout",
     "output_type": "stream",
     "text": [
      "5 4 3 2 1 \n",
      "\n",
      "4 3 2 1 \n",
      "\n",
      "3 2 1 \n",
      "\n",
      "2 1 \n",
      "\n",
      "1 \n",
      "\n"
     ]
    }
   ],
   "source": [
    "# (Q7)print the pattern\n",
    "for i in range(5,0,-1):\n",
    "    for j in range(i,0,-1):\n",
    "        print(j,end=\" \")\n",
    "    print(\"\\n\")"
   ]
  },
  {
   "cell_type": "code",
   "execution_count": 8,
   "id": "5912726e",
   "metadata": {},
   "outputs": [
    {
     "name": "stdout",
     "output_type": "stream",
     "text": [
      "96 13 69 24 67 23 "
     ]
    }
   ],
   "source": [
    "# (Q8)print list in reverse order using loop\n",
    "list_temp = [23,67,24,69,13,96]\n",
    "l = len(list_temp)\n",
    "i = l - 1\n",
    "while (i >= 0):\n",
    "    print(list_temp[i], end=' ')\n",
    "    i = i - 1"
   ]
  },
  {
   "cell_type": "code",
   "execution_count": 9,
   "id": "1fce4e94",
   "metadata": {},
   "outputs": [
    {
     "name": "stdout",
     "output_type": "stream",
     "text": [
      "-10 -9 -8 -7 -6 -5 -4 -3 -2 -1 "
     ]
    }
   ],
   "source": [
    "# (Q9)display number from -10 to -1 using loop\n",
    "\n",
    "for i in range(-10,0):\n",
    "    print(i,end=\" \")"
   ]
  },
  {
   "cell_type": "code",
   "execution_count": 10,
   "id": "fee67afb",
   "metadata": {},
   "outputs": [],
   "source": [
    "# (Q10) use else block to display a message \"done\" after successful execution of for loop"
   ]
  },
  {
   "cell_type": "code",
   "execution_count": 11,
   "id": "0b9298d1",
   "metadata": {},
   "outputs": [
    {
     "name": "stdout",
     "output_type": "stream",
     "text": [
      "Enter first number4\n",
      "Enter second number2\n",
      "Prime numbers between 4 and 2 are:\n"
     ]
    }
   ],
   "source": [
    "# (Q11)Write a program to display all prime number within a range\n",
    "lower = int(input(\"Enter first number\"))\n",
    "upper = int(input(\"Enter second number\"))\n",
    "\n",
    "print(\"Prime numbers between\", lower, \"and\", upper, \"are:\")\n",
    "\n",
    "for num in range(lower, upper + 1):\n",
    "   if num > 1:\n",
    "       for i in range(2, num):\n",
    "           if (num % i) == 0:\n",
    "               break\n",
    "       else:\n",
    "           print(num)"
   ]
  },
  {
   "cell_type": "code",
   "execution_count": 12,
   "id": "84d00c45",
   "metadata": {},
   "outputs": [
    {
     "name": "stdout",
     "output_type": "stream",
     "text": [
      "Enter a number : 3\n",
      "0\n",
      "1\n",
      "1\n"
     ]
    }
   ],
   "source": [
    "# (Q12) display fibonacci series upto ten terms\n",
    "num = int(input(\"Enter a number : \"))\n",
    "a = 0\n",
    "b = 1\n",
    "print(a)\n",
    "print(b)\n",
    "for i in range(num-2):\n",
    "    c = a+b\n",
    "    print(c)\n",
    "    a= b\n",
    "    b= c"
   ]
  },
  {
   "cell_type": "code",
   "execution_count": 13,
   "id": "14c61be3",
   "metadata": {},
   "outputs": [
    {
     "name": "stdout",
     "output_type": "stream",
     "text": [
      "Enter a number : 5\n",
      "120\n"
     ]
    }
   ],
   "source": [
    "# (Q13)find the factorial of a given number\n",
    "num = int(input(\"Enter a number : \"))\n",
    "fact = 1\n",
    "for i in range(1,num+1):\n",
    "    fact = fact*i\n",
    "print(fact)"
   ]
  },
  {
   "cell_type": "code",
   "execution_count": 14,
   "id": "0b7d093d",
   "metadata": {},
   "outputs": [
    {
     "name": "stdout",
     "output_type": "stream",
     "text": [
      "Enter a number: 5\n",
      "5"
     ]
    }
   ],
   "source": [
    "# (Q14) Reverse a given integer\n",
    "x = input(\"Enter a number: \")\n",
    "l = len(x)\n",
    "i = l - 1\n",
    "while (i >= 0):\n",
    "    print(x[i], end='')\n",
    "    i = i - 1"
   ]
  },
  {
   "cell_type": "code",
   "execution_count": 16,
   "id": "5d6bc1f3",
   "metadata": {},
   "outputs": [
    {
     "name": "stdout",
     "output_type": "stream",
     "text": [
      "23 56 45 7 95 51 "
     ]
    }
   ],
   "source": [
    "# (Q15) Use a loop to display elements from a given list present at odd index positions\n",
    "\n",
    "list_temp = [23,34,56,2,45,75,7,12,95,4,51]\n",
    "\n",
    "for i in range(1,len(list_temp)+1,2):\n",
    "    print(list_temp[i-1], end=\" \")"
   ]
  },
  {
   "cell_type": "code",
   "execution_count": 17,
   "id": "b3e61503",
   "metadata": {},
   "outputs": [
    {
     "name": "stdout",
     "output_type": "stream",
     "text": [
      "Enter a number : 4\n",
      "1 8 27 64 "
     ]
    }
   ],
   "source": [
    "# (Q16) Calculate the cube of all number from one to a given number \n",
    "num = int(input('Enter a number : '))\n",
    "for i in range(1,num+1):\n",
    "    print(i*i*i, end=\" \")"
   ]
  },
  {
   "cell_type": "code",
   "execution_count": 18,
   "id": "c2e6b33f",
   "metadata": {},
   "outputs": [
    {
     "name": "stdout",
     "output_type": "stream",
     "text": [
      "Enter the number of terms : 5\n",
      "2 + 22 + 222 + 2222 + 22222 + = 24690\n"
     ]
    }
   ],
   "source": [
    "# (Q17) Find the sum of series upto n terms for eg : 2+22+222+2222+22222=24690\n",
    "n = int(input(\"Enter the number of terms : \"))\n",
    "sum = 0\n",
    "term = 2\n",
    "\n",
    "for i in range(1, n+1):\n",
    "    print(term,\"+ \",end=\"\")\n",
    "    sum += term\n",
    "    term = term * 10 + 2\n",
    "\n",
    "print(\"=\",sum)"
   ]
  },
  {
   "cell_type": "code",
   "execution_count": 19,
   "id": "620d9345",
   "metadata": {},
   "outputs": [
    {
     "name": "stdout",
     "output_type": "stream",
     "text": [
      "\n",
      "\n",
      "* \n",
      "\n",
      "* * \n",
      "\n",
      "* * * \n",
      "\n",
      "* * * * \n",
      "\n",
      "* * * * * \n",
      "\n",
      "* * * * \n",
      "\n",
      "* * * \n",
      "\n",
      "* * \n",
      "\n",
      "* \n",
      "\n"
     ]
    }
   ],
   "source": [
    "# (Q18) Print the pattern\n",
    "for i in range(1,6):\n",
    "    for j in range(1,i):\n",
    "        print(\"*\",end=\" \")\n",
    "    print(\"\\n\")\n",
    "for i in range(5,0,-1):\n",
    "    for j in range(i,0,-1):\n",
    "        print(\"*\",end=\" \")\n",
    "    print(\"\\n\")"
   ]
  },
  {
   "cell_type": "code",
   "execution_count": null,
   "id": "340ab814",
   "metadata": {},
   "outputs": [],
   "source": []
  }
 ],
 "metadata": {
  "kernelspec": {
   "display_name": "Python 3 (ipykernel)",
   "language": "python",
   "name": "python3"
  },
  "language_info": {
   "codemirror_mode": {
    "name": "ipython",
    "version": 3
   },
   "file_extension": ".py",
   "mimetype": "text/x-python",
   "name": "python",
   "nbconvert_exporter": "python",
   "pygments_lexer": "ipython3",
   "version": "3.9.12"
  }
 },
 "nbformat": 4,
 "nbformat_minor": 5
}
